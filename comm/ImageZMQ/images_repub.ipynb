{
 "cells": [
  {
   "cell_type": "code",
   "execution_count": 1,
   "id": "active-frame",
   "metadata": {},
   "outputs": [],
   "source": [
    "import sys\n",
    "\n",
    "import socket\n",
    "import traceback\n",
    "from time import sleep\n",
    "import threading\n",
    "\n",
    "import cv2\n",
    "from imutils.video import VideoStream\n",
    "import imagezmq\n",
    "import simplejpeg\n"
   ]
  },
  {
   "cell_type": "code",
   "execution_count": 2,
   "id": "vocational-celebration",
   "metadata": {},
   "outputs": [],
   "source": [
    "%run utils.ipynb"
   ]
  },
  {
   "cell_type": "code",
   "execution_count": 3,
   "id": "quantitative-outdoors",
   "metadata": {},
   "outputs": [
    {
     "name": "stdout",
     "output_type": "stream",
     "text": [
      "Exit due to keyboard interrupt\n"
     ]
    },
    {
     "ename": "SystemExit",
     "evalue": "",
     "output_type": "error",
     "traceback": [
      "An exception has occurred, use %tb to see the full traceback.\n",
      "\u001b[0;31mSystemExit\u001b[0m\n"
     ]
    },
    {
     "name": "stderr",
     "output_type": "stream",
     "text": [
      "/usr/local/lib/python3.9/site-packages/IPython/core/interactiveshell.py:3445: UserWarning: To exit: use 'exit', 'quit', or Ctrl-D.\n",
      "  warn(\"To exit: use 'exit', 'quit', or Ctrl-D.\", stacklevel=1)\n"
     ]
    }
   ],
   "source": [
    "# Helper class implementing an IO deamon thread\n",
    "class VideoStreamSubscriber:\n",
    "\n",
    "    def __init__(self, hostname, port):\n",
    "        self.hostname = hostname\n",
    "        self.port = port\n",
    "        self._stop = False\n",
    "        self._data_ready = threading.Event()\n",
    "        self._thread = threading.Thread(target=self._run, args=())\n",
    "        self._thread.daemon = True\n",
    "        self._thread.start()\n",
    "\n",
    "    def receive(self, timeout=15.0):\n",
    "        flag = self._data_ready.wait(timeout=timeout)\n",
    "        if not flag:\n",
    "            raise TimeoutError(\n",
    "                \"Timeout while reading from subscriber tcp://{}:{}\".format(self.hostname, self.port))\n",
    "        self._data_ready.clear()\n",
    "        return self._data\n",
    "\n",
    "    def _run(self):\n",
    "        receiver = imagezmq.ImageHub(\"tcp://{}:{}\".format(self.hostname, self.port), REQ_REP=False)\n",
    "        while not self._stop:\n",
    "            self._data = receiver.recv_jpg()\n",
    "            self._data_ready.set()\n",
    "        receiver.close()\n",
    "\n",
    "    def close(self):\n",
    "        self._stop = True\n",
    "        \n",
    "        \n",
    "jpeg_quality = 80\n",
    "pub_name = socket.gethostname()\n",
    "\n",
    "\n",
    "port = 5556\n",
    "sender = imagezmq.ImageSender(\"tcp://*:{}\".format(port), REQ_REP=False)\n",
    "\n",
    "if __name__ == \"__main__\":\n",
    "    # Receive from broadcast\n",
    "    # There are 2 hostname styles; comment out the one you don't need\n",
    "    hostname = \"127.0.0.1\"  # Use to receive from localhost\n",
    "    # hostname = \"192.168.86.38\"  # Use to receive from other computer\n",
    "    port = 5555\n",
    "    receiver = VideoStreamSubscriber(hostname, port)\n",
    "\n",
    "    try:\n",
    "        counter = 0\n",
    "        while True:\n",
    "            display.clear_output(wait=True)\n",
    "            msg, jpg_buffer = receiver.receive()\n",
    "            image = simplejpeg.decode_jpeg(jpg_buffer, colorspace='BGR', fastdct=False, fastupsample=False)\n",
    "            \n",
    "            # image processing, pass\n",
    "            image = cv2.resize(image, (400, 400), interpolation=cv2.INTER_CUBIC)\n",
    "\n",
    "            \n",
    "            jpg_buffer = simplejpeg.encode_jpeg(image, quality=jpeg_quality, colorspace='BGR', fastdct=False)\n",
    "            sender.send_jpg(pub_name, jpg_buffer)\n",
    "            print(f\"{pub_name} sent frame {counter}\")\n",
    "            counter = counter + 1\n",
    "\n",
    "    except (KeyboardInterrupt, SystemExit):\n",
    "        print('Exit due to keyboard interrupt')\n",
    "    except Exception as ex:\n",
    "        print('Python error with no Exception handler:')\n",
    "        print('Traceback error:', ex)\n",
    "        traceback.print_exc()\n",
    "    finally:\n",
    "        receiver.close()\n",
    "        sys.exit()"
   ]
  },
  {
   "cell_type": "code",
   "execution_count": null,
   "id": "technical-python",
   "metadata": {},
   "outputs": [],
   "source": []
  },
  {
   "cell_type": "code",
   "execution_count": null,
   "id": "union-owner",
   "metadata": {},
   "outputs": [],
   "source": []
  },
  {
   "cell_type": "code",
   "execution_count": null,
   "id": "imperial-victoria",
   "metadata": {},
   "outputs": [],
   "source": []
  }
 ],
 "metadata": {
  "kernelspec": {
   "display_name": "Python 3",
   "language": "python",
   "name": "python3"
  },
  "language_info": {
   "codemirror_mode": {
    "name": "ipython",
    "version": 3
   },
   "file_extension": ".py",
   "mimetype": "text/x-python",
   "name": "python",
   "nbconvert_exporter": "python",
   "pygments_lexer": "ipython3",
   "version": "3.8.5"
  }
 },
 "nbformat": 4,
 "nbformat_minor": 5
}
