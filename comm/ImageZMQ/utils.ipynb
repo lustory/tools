{
 "cells": [
  {
   "cell_type": "code",
   "execution_count": 2,
   "id": "drawn-washer",
   "metadata": {},
   "outputs": [],
   "source": [
    "import os\n",
    "import PIL\n",
    "from PIL import Image\n",
    "from io import BytesIO\n",
    "import simplejpeg\n",
    "from IPython import display\n",
    "import ipywidgets as widgets\n"
   ]
  },
  {
   "cell_type": "raw",
   "id": "f28bbacb-029f-4fbc-934d-b19929b3f197",
   "metadata": {},
   "source": [
    "# Helper class implementing an IO deamon thread\n",
    "class VideoStreamSubscriber:\n",
    "\n",
    "    def __init__(self, hostname, port):\n",
    "        self.hostname = hostname\n",
    "        self.port = port\n",
    "        self._stop = False\n",
    "        self._data_ready = threading.Event()\n",
    "        self._thread = threading.Thread(target=self._run, args=())\n",
    "        self._thread.daemon = True\n",
    "        self._thread.start()\n",
    "\n",
    "    def receive(self, timeout=15.0):\n",
    "        flag = self._data_ready.wait(timeout=timeout)\n",
    "        if not flag:\n",
    "            raise TimeoutError(\n",
    "                \"Timeout while reading from subscriber tcp://{}:{}\".format(self.hostname, self.port))\n",
    "        self._data_ready.clear()\n",
    "        return self._data\n",
    "\n",
    "    def _run(self):\n",
    "        receiver = imagezmq.ImageHub(\"tcp://{}:{}\".format(self.hostname, self.port), REQ_REP=False)\n",
    "        while not self._stop:\n",
    "            self._data = receiver.recv_jpg()\n",
    "            self._data_ready.set()\n",
    "        receiver.close()\n",
    "\n",
    "    def close(self):\n",
    "        self._stop = True"
   ]
  },
  {
   "cell_type": "code",
   "execution_count": null,
   "id": "packed-bunch",
   "metadata": {},
   "outputs": [],
   "source": []
  },
  {
   "cell_type": "code",
   "execution_count": null,
   "id": "close-classics",
   "metadata": {},
   "outputs": [],
   "source": []
  },
  {
   "cell_type": "raw",
   "id": "ae0814ab-cb8f-4f91-8c11-857cf1cd154d",
   "metadata": {},
   "source": [
    "class paddlexDetector():\n",
    "    def __init__(self, model_path=\"./yolo_cfg/metertype_inference_model\", use_gpu=False, inputWdith=512, inputHeight=512, confThre=0.5):\n",
    "        \n",
    "        self.confThre = confThre\n",
    "        self.net = pdx.deploy.Predictor(model_path, use_gpu=use_gpu)\n",
    "\n",
    "\n",
    "    def detect(self, input_image, meter_label=None, idx=0):        \n",
    "        \n",
    "        input_copy = input_image.copy().astype('float32')\n",
    "        \n",
    "        \n",
    "        det_results = self.net.predict(input_copy)\n",
    "        \n",
    "        filtered_results = [ res for res in det_results if res['score'] >= self.confThre]\n",
    "\n",
    "        boxes_and_labels = [ [self.roun··d_list(res['bbox']), res['category_id']] for res in filtered_results]\n",
    "        \n",
    "        return boxes_and_labels\n",
    "    \n",
    "    \n",
    "    def round_mean(self, input_list):\n",
    "        return np.around(np.mean(input_list), decimals=1)\n",
    "\n",
    "    def round_std(self, input_list):\n",
    "        return np.around(np.std(input_list), decimals=1)\n",
    "    \n",
    "    def round_list(self, input_list):\n",
    "        return [round(i) for i in input_list]"
   ]
  }
 ],
 "metadata": {
  "kernelspec": {
   "display_name": "Python 3 (ipykernel)",
   "language": "python",
   "name": "python3"
  },
  "language_info": {
   "codemirror_mode": {
    "name": "ipython",
    "version": 3
   },
   "file_extension": ".py",
   "mimetype": "text/x-python",
   "name": "python",
   "nbconvert_exporter": "python",
   "pygments_lexer": "ipython3",
   "version": "3.8.10"
  }
 },
 "nbformat": 4,
 "nbformat_minor": 5
}
