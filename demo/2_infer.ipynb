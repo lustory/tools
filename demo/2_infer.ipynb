{
 "cells": [
  {
   "cell_type": "code",
   "execution_count": 1,
   "id": "cf2b9b86-860d-4177-8ad0-cfebe09b8f3b",
   "metadata": {},
   "outputs": [
    {
     "name": "stderr",
     "output_type": "stream",
     "text": [
      "/usr/local/lib/python3.8/dist-packages/paddle/distributed/parallel.py:119: UserWarning: Currently not a parallel execution environment, `paddle.distributed.init_parallel_env` will not do anything.\n",
      "  warnings.warn(\n",
      "/usr/local/lib/python3.8/dist-packages/paddle/tensor/creation.py:125: DeprecationWarning: `np.object` is a deprecated alias for the builtin `object`. To silence this warning, use `object` by itself. Doing this will not modify any behavior and is safe. \n",
      "Deprecated in NumPy 1.20; for more details and guidance: https://numpy.org/devdocs/release/1.20.0-notes.html#deprecations\n",
      "  if data.dtype == np.object:\n"
     ]
    }
   ],
   "source": [
    "import sys\n",
    "sys.path.append(\"/home/xjtu/.research/tools\")\n",
    "\n",
    "import os\n",
    "import socket\n",
    "import traceback\n",
    "from time import sleep\n",
    "import cv2\n",
    "import functools\n",
    "from imutils.video import VideoStream\n",
    "import imagezmq\n",
    "import simplejpeg\n",
    "from itertools import count\n",
    "from comm.ImageZMQ.utils import receive_msg2queue\n",
    "from video.filevideostream import FileVideoStream\n",
    "from comm.ImageZMQ.utils import send_msg\n",
    "import imutils\n",
    "import time\n",
    "from video.webCameraVideoStream import webCamVideoStream\n",
    "from pdx.detect import DETECT\n",
    "\n",
    "\n",
    "import multiprocessing as mp\n",
    "from multiprocessing import Process, Manager,Queue\n",
    "from video.image_utils import *\n",
    "\n",
    "\n",
    "from IPython.display import clear_output "
   ]
  },
  {
   "cell_type": "code",
   "execution_count": 2,
   "id": "c41e07a5-36b4-44b9-98bb-bb1ffbd438f7",
   "metadata": {},
   "outputs": [],
   "source": [
    "detector = DETECT(model_path=\"/home/xjtu/.research/models/test_model\", use_gpu=True, inputWdith=544, inputHeight=544, confThre=0.5)"
   ]
  },
  {
   "cell_type": "code",
   "execution_count": 3,
   "id": "d5ac15b2-87b3-4def-a117-b5370f89827c",
   "metadata": {},
   "outputs": [
    {
     "name": "stdout",
     "output_type": "stream",
     "text": [
      "[INFO] start receiving msgs in REQ_REP mode ...\n"
     ]
    }
   ],
   "source": [
    "###### 01 设置消息接收 ######\n",
    "port = 6500\n",
    "REQ_REP = True\n",
    "hostname = \"127.0.0.1\" \n",
    "\n",
    "# 当消息来自本机时，hostname=\"localhost\" 或 127.0.0.1\n",
    "# 当消息来自局域网时，hostname=本机的局域网ip\n",
    "detector.start_receive(hostname=hostname, port=port, is_req_rep=REQ_REP)"
   ]
  },
  {
   "cell_type": "code",
   "execution_count": 4,
   "id": "0095a118-292f-46f3-a170-07b828a4086d",
   "metadata": {},
   "outputs": [
    {
     "name": "stderr",
     "output_type": "stream",
     "text": [
      "W0826 18:03:57.144088  8178 device_context.cc:404] Please NOTE: device: 0, GPU Compute Capability: 8.6, Driver API Version: 11.4, Runtime API Version: 11.2\n",
      "W0826 18:03:57.146546  8178 device_context.cc:422] device: 0, cuDNN Version: 8.2.\n",
      "/usr/local/lib/python3.8/dist-packages/paddle/fluid/backward.py:1666: DeprecationWarning: Using or importing the ABCs from 'collections' instead of from 'collections.abc' is deprecated since Python 3.3, and in 3.10 it will stop working\n",
      "  return list(x) if isinstance(x, collections.Sequence) else [x]\n"
     ]
    },
    {
     "name": "stdout",
     "output_type": "stream",
     "text": [
      "2021-08-26 18:03:59 [INFO]\tModel[PPYOLOv2] loaded.\n"
     ]
    },
    {
     "ename": "KeyboardInterrupt",
     "evalue": "",
     "output_type": "error",
     "traceback": [
      "\u001b[0;31m---------------------------------------------------------------------------\u001b[0m",
      "\u001b[0;31mKeyboardInterrupt\u001b[0m                         Traceback (most recent call last)",
      "\u001b[0;32m/tmp/ipykernel_8178/2244766435.py\u001b[0m in \u001b[0;36m<module>\u001b[0;34m\u001b[0m\n\u001b[0;32m----> 1\u001b[0;31m \u001b[0mdetector\u001b[0m\u001b[0;34m.\u001b[0m\u001b[0mbatch_detect_and_send\u001b[0m\u001b[0;34m(\u001b[0m\u001b[0mremote_addr\u001b[0m\u001b[0;34m=\u001b[0m\u001b[0;34m\"127.0.0.1\"\u001b[0m\u001b[0;34m,\u001b[0m \u001b[0mport\u001b[0m\u001b[0;34m=\u001b[0m\u001b[0;36m6501\u001b[0m\u001b[0;34m)\u001b[0m\u001b[0;34m\u001b[0m\u001b[0;34m\u001b[0m\u001b[0m\n\u001b[0m",
      "\u001b[0;32m/home/xjtu/.research/tools/pdx/detect.py\u001b[0m in \u001b[0;36mbatch_detect_and_send\u001b[0;34m(self, remote_addr, port, is_req_rep, maxsize)\u001b[0m\n\u001b[1;32m     88\u001b[0m                 \u001b[0mboxes\u001b[0m\u001b[0;34m,\u001b[0m \u001b[0mlabels\u001b[0m \u001b[0;34m=\u001b[0m \u001b[0mself\u001b[0m\u001b[0;34m.\u001b[0m\u001b[0mfilter_bboxes\u001b[0m\u001b[0;34m(\u001b[0m\u001b[0mresult\u001b[0m\u001b[0;34m)\u001b[0m\u001b[0;34m\u001b[0m\u001b[0;34m\u001b[0m\u001b[0m\n\u001b[1;32m     89\u001b[0m                 \u001b[0mnew_msg\u001b[0m \u001b[0;34m=\u001b[0m \u001b[0;34m[\u001b[0m\u001b[0mboxes\u001b[0m\u001b[0;34m,\u001b[0m \u001b[0mlabels\u001b[0m\u001b[0;34m]\u001b[0m\u001b[0;34m\u001b[0m\u001b[0;34m\u001b[0m\u001b[0m\n\u001b[0;32m---> 90\u001b[0;31m                 \u001b[0msend_msg\u001b[0m\u001b[0;34m(\u001b[0m\u001b[0msender\u001b[0m\u001b[0;34m,\u001b[0m \u001b[0mimage\u001b[0m\u001b[0;34m,\u001b[0m \u001b[0mmsg\u001b[0m\u001b[0;34m=\u001b[0m\u001b[0mnew_msg\u001b[0m\u001b[0;34m,\u001b[0m \u001b[0mimage_quality\u001b[0m\u001b[0;34m=\u001b[0m\u001b[0;36m90\u001b[0m\u001b[0;34m,\u001b[0m \u001b[0mimage_type\u001b[0m\u001b[0;34m=\u001b[0m\u001b[0;34m\"buffer\"\u001b[0m\u001b[0;34m,\u001b[0m \u001b[0mis_req_rep\u001b[0m\u001b[0;34m=\u001b[0m\u001b[0mis_req_rep\u001b[0m\u001b[0;34m)\u001b[0m\u001b[0;34m\u001b[0m\u001b[0;34m\u001b[0m\u001b[0m\n\u001b[0m\u001b[1;32m     91\u001b[0m \u001b[0;34m\u001b[0m\u001b[0m\n\u001b[1;32m     92\u001b[0m                 \u001b[0msend_count\u001b[0m \u001b[0;34m+=\u001b[0m \u001b[0;36m1\u001b[0m\u001b[0;34m\u001b[0m\u001b[0;34m\u001b[0m\u001b[0m\n",
      "\u001b[0;32m/home/xjtu/.research/tools/comm/ImageZMQ/utils.py\u001b[0m in \u001b[0;36msend_msg\u001b[0;34m(sender, image, msg, image_quality, image_type, is_req_rep)\u001b[0m\n\u001b[1;32m     45\u001b[0m         \u001b[0mjpg_buffer\u001b[0m \u001b[0;34m=\u001b[0m \u001b[0msimplejpeg\u001b[0m\u001b[0;34m.\u001b[0m\u001b[0mencode_jpeg\u001b[0m\u001b[0;34m(\u001b[0m\u001b[0mimage\u001b[0m\u001b[0;34m,\u001b[0m \u001b[0mquality\u001b[0m\u001b[0;34m=\u001b[0m\u001b[0mimage_quality\u001b[0m\u001b[0;34m,\u001b[0m \u001b[0mcolorspace\u001b[0m\u001b[0;34m=\u001b[0m\u001b[0;34m'BGR'\u001b[0m\u001b[0;34m,\u001b[0m \u001b[0mfastdct\u001b[0m\u001b[0;34m=\u001b[0m\u001b[0;32mFalse\u001b[0m\u001b[0;34m)\u001b[0m\u001b[0;34m\u001b[0m\u001b[0;34m\u001b[0m\u001b[0m\n\u001b[1;32m     46\u001b[0m         \u001b[0;32mif\u001b[0m \u001b[0mis_req_rep\u001b[0m\u001b[0;34m:\u001b[0m\u001b[0;34m\u001b[0m\u001b[0;34m\u001b[0m\u001b[0m\n\u001b[0;32m---> 47\u001b[0;31m             \u001b[0msender\u001b[0m\u001b[0;34m.\u001b[0m\u001b[0msend_jpg_reqrep\u001b[0m\u001b[0;34m(\u001b[0m\u001b[0mmsg\u001b[0m\u001b[0;34m,\u001b[0m \u001b[0mjpg_buffer\u001b[0m\u001b[0;34m)\u001b[0m\u001b[0;34m\u001b[0m\u001b[0;34m\u001b[0m\u001b[0m\n\u001b[0m\u001b[1;32m     48\u001b[0m         \u001b[0;32melse\u001b[0m\u001b[0;34m:\u001b[0m\u001b[0;34m\u001b[0m\u001b[0;34m\u001b[0m\u001b[0m\n\u001b[1;32m     49\u001b[0m             \u001b[0msender\u001b[0m\u001b[0;34m.\u001b[0m\u001b[0msend_jpg\u001b[0m\u001b[0;34m(\u001b[0m\u001b[0mmsg\u001b[0m\u001b[0;34m,\u001b[0m \u001b[0mjpg_buffer\u001b[0m\u001b[0;34m)\u001b[0m\u001b[0;34m\u001b[0m\u001b[0;34m\u001b[0m\u001b[0m\n",
      "\u001b[0;32m/usr/local/lib/python3.8/dist-packages/imagezmq/imagezmq.py\u001b[0m in \u001b[0;36msend_jpg_reqrep\u001b[0;34m(self, msg, jpg_buffer)\u001b[0m\n\u001b[1;32m    160\u001b[0m \u001b[0;34m\u001b[0m\u001b[0m\n\u001b[1;32m    161\u001b[0m         \u001b[0mself\u001b[0m\u001b[0;34m.\u001b[0m\u001b[0mzmq_socket\u001b[0m\u001b[0;34m.\u001b[0m\u001b[0msend_jpg\u001b[0m\u001b[0;34m(\u001b[0m\u001b[0mmsg\u001b[0m\u001b[0;34m,\u001b[0m \u001b[0mjpg_buffer\u001b[0m\u001b[0;34m,\u001b[0m \u001b[0mcopy\u001b[0m\u001b[0;34m=\u001b[0m\u001b[0;32mFalse\u001b[0m\u001b[0;34m)\u001b[0m\u001b[0;34m\u001b[0m\u001b[0;34m\u001b[0m\u001b[0m\n\u001b[0;32m--> 162\u001b[0;31m         \u001b[0mhub_reply\u001b[0m \u001b[0;34m=\u001b[0m \u001b[0mself\u001b[0m\u001b[0;34m.\u001b[0m\u001b[0mzmq_socket\u001b[0m\u001b[0;34m.\u001b[0m\u001b[0mrecv\u001b[0m\u001b[0;34m(\u001b[0m\u001b[0;34m)\u001b[0m  \u001b[0;31m# receive the reply message\u001b[0m\u001b[0;34m\u001b[0m\u001b[0;34m\u001b[0m\u001b[0m\n\u001b[0m\u001b[1;32m    163\u001b[0m         \u001b[0;32mreturn\u001b[0m \u001b[0mhub_reply\u001b[0m\u001b[0;34m\u001b[0m\u001b[0;34m\u001b[0m\u001b[0m\n\u001b[1;32m    164\u001b[0m \u001b[0;34m\u001b[0m\u001b[0m\n",
      "\u001b[0;32mzmq/backend/cython/socket.pyx\u001b[0m in \u001b[0;36mzmq.backend.cython.socket.Socket.recv\u001b[0;34m()\u001b[0m\n",
      "\u001b[0;32mzmq/backend/cython/socket.pyx\u001b[0m in \u001b[0;36mzmq.backend.cython.socket.Socket.recv\u001b[0;34m()\u001b[0m\n",
      "\u001b[0;32mzmq/backend/cython/socket.pyx\u001b[0m in \u001b[0;36mzmq.backend.cython.socket._recv_copy\u001b[0;34m()\u001b[0m\n",
      "\u001b[0;32m/usr/local/lib/python3.8/dist-packages/zmq/backend/cython/checkrc.pxd\u001b[0m in \u001b[0;36mzmq.backend.cython.checkrc._check_rc\u001b[0;34m()\u001b[0m\n",
      "\u001b[0;31mKeyboardInterrupt\u001b[0m: "
     ]
    }
   ],
   "source": [
    "detector.batch_detect_and_send(remote_addr=\"127.0.0.1\", port=6501)"
   ]
  },
  {
   "cell_type": "code",
   "execution_count": null,
   "id": "79d8db0d-ac9a-46db-87a4-949007df78e1",
   "metadata": {},
   "outputs": [],
   "source": []
  },
  {
   "cell_type": "code",
   "execution_count": null,
   "id": "6bc2b7d9-f5b7-43ab-9e67-7ed2fa5a266a",
   "metadata": {},
   "outputs": [],
   "source": []
  },
  {
   "cell_type": "code",
   "execution_count": null,
   "id": "70561118-8459-405f-b784-fd968c06d053",
   "metadata": {},
   "outputs": [],
   "source": []
  },
  {
   "cell_type": "code",
   "execution_count": null,
   "id": "27b83f7a-cdab-4070-b7da-9b7000dcfa28",
   "metadata": {},
   "outputs": [],
   "source": []
  },
  {
   "cell_type": "code",
   "execution_count": null,
   "id": "96552794-2b77-4881-a1e9-7d648eff8da1",
   "metadata": {},
   "outputs": [],
   "source": []
  },
  {
   "cell_type": "code",
   "execution_count": null,
   "id": "91b4ea55-1c90-4ee7-b9a8-23b9876c9d24",
   "metadata": {},
   "outputs": [],
   "source": []
  },
  {
   "cell_type": "raw",
   "id": "07d369b0-7815-423b-a7c1-a806d3c6b638",
   "metadata": {},
   "source": [
    "while True:\n",
    "    print(detector.msgqueue.qsize())\n",
    "    clear_output()"
   ]
  },
  {
   "cell_type": "code",
   "execution_count": null,
   "id": "59cdd11e-0d08-45ed-9d14-d751513d31b1",
   "metadata": {},
   "outputs": [],
   "source": []
  },
  {
   "cell_type": "code",
   "execution_count": null,
   "id": "674bc052-ec8e-4941-a36a-c9750f32c17e",
   "metadata": {},
   "outputs": [],
   "source": []
  },
  {
   "cell_type": "raw",
   "id": "2d887c20-5c37-4b50-8079-3122dbee211f",
   "metadata": {},
   "source": [
    "if __name__ == '__main__':\n",
    "\n",
    "    mp.set_start_method('spawn')\n",
    "    man = Manager()\n",
    "    \n",
    "    # 设置消息接收的队列及其长度\n",
    "    image_q = man.Queue(0)\n",
    "    \n",
    "    \n",
    "\n",
    "\n",
    "    # 开启线程进行目标检测及结果发送\n",
    "    q_process = Process(target=detect, args=(image_q,))\n",
    "    q_process.start()\n",
    "\n",
    "    \n",
    "    time.sleep(5)\n",
    "\n",
    "#     # 开启线程进行消息接收\n",
    "#     q_read_image = Process(target=receive_images, args=(image_q,))\n",
    "#     q_read_image.start()\n",
    "    \n",
    "    \n",
    "    \n",
    "    \n",
    "    JS = jimage_show(width=720)\n",
    "    while True:\n",
    "        image = image_q.get()[\"image\"]\n",
    "        JS.show(image)\n",
    "#         clear_output()\n",
    "        print(image_q.qsize())\n",
    "\n",
    "\n",
    "\n",
    "\n",
    "#     q_read_image.join()"
   ]
  },
  {
   "cell_type": "code",
   "execution_count": null,
   "id": "804cc896-f831-44dc-8a76-517b9c2b7cb7",
   "metadata": {},
   "outputs": [],
   "source": []
  },
  {
   "cell_type": "code",
   "execution_count": null,
   "id": "4a90adbd-f2fe-4111-bc5c-d465006c056f",
   "metadata": {},
   "outputs": [],
   "source": []
  }
 ],
 "metadata": {
  "kernelspec": {
   "display_name": "Python 3 (ipykernel)",
   "language": "python",
   "name": "python3"
  },
  "language_info": {
   "codemirror_mode": {
    "name": "ipython",
    "version": 3
   },
   "file_extension": ".py",
   "mimetype": "text/x-python",
   "name": "python",
   "nbconvert_exporter": "python",
   "pygments_lexer": "ipython3",
   "version": "3.8.10"
  }
 },
 "nbformat": 4,
 "nbformat_minor": 5
}
