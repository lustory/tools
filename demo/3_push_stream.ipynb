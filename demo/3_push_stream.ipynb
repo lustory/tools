{
 "cells": [
  {
   "cell_type": "code",
   "execution_count": 1,
   "id": "d5018d59-c3de-4e4f-820b-9af7ccb58f2d",
   "metadata": {},
   "outputs": [
    {
     "name": "stderr",
     "output_type": "stream",
     "text": [
      "/usr/local/lib/python3.8/dist-packages/paddle/distributed/parallel.py:119: UserWarning: Currently not a parallel execution environment, `paddle.distributed.init_parallel_env` will not do anything.\n",
      "  warnings.warn(\n",
      "/usr/local/lib/python3.8/dist-packages/paddle/tensor/creation.py:125: DeprecationWarning: `np.object` is a deprecated alias for the builtin `object`. To silence this warning, use `object` by itself. Doing this will not modify any behavior and is safe. \n",
      "Deprecated in NumPy 1.20; for more details and guidance: https://numpy.org/devdocs/release/1.20.0-notes.html#deprecations\n",
      "  if data.dtype == np.object:\n"
     ]
    }
   ],
   "source": [
    "import sys\n",
    "sys.path.append(\"/home/xjtu/.research/tools\")\n",
    "\n",
    "import socket\n",
    "# import traceback\n",
    "import cv2\n",
    "from imutils.video import VideoStream\n",
    "import imagezmq\n",
    "import threading\n",
    "import numpy as np\n",
    "from time import sleep\n",
    "import simplejpeg\n",
    "import orjson\n",
    "from comm.ImageZMQ.VideoStreamSubscriber import VideoStreamSubscriber\n",
    "from multiprocessing import Process,Queue\n",
    "\n",
    "from video.filevideostream import FileVideoStream\n",
    "# from configParser import Config as config\n",
    "import multiprocessing as mp\n",
    "from multiprocessing import Process, Manager,Queue\n",
    "import time\n",
    "from comm.ImageZMQ.utils import receive_msg2queue\n",
    "import functools\n",
    "# from track import CentroidTracker, get_object_label\n",
    "from video.image_utils import *\n",
    "\n",
    "import multiprocessing as mp\n",
    "from multiprocessing import Process, Manager,Queue\n",
    "from utils import *\n",
    "from video.post_process import POST_PROCESS"
   ]
  },
  {
   "cell_type": "code",
   "execution_count": 2,
   "id": "25f66c06-8281-48b1-ab94-59428489c0e3",
   "metadata": {},
   "outputs": [],
   "source": [
    "hostname=\"127.0.0.1\"\n",
    "port=6501"
   ]
  },
  {
   "cell_type": "code",
   "execution_count": 3,
   "id": "0ff12363-dfb0-4f3b-a164-be59f8b0ed45",
   "metadata": {},
   "outputs": [
    {
     "name": "stdout",
     "output_type": "stream",
     "text": [
      "[INFO] start receiving msgs in REQ_REP mode ...\n"
     ]
    }
   ],
   "source": [
    "PP = POST_PROCESS()\n",
    "PP.start_receive(hostname, port)"
   ]
  },
  {
   "cell_type": "raw",
   "id": "5eefdffa-dc36-49e0-beee-62fe33cd6eeb",
   "metadata": {},
   "source": [
    "PP.imshow_with_box()"
   ]
  },
  {
   "cell_type": "code",
   "execution_count": null,
   "id": "92563358-1202-4eca-b3bd-4132bb0d4c8f",
   "metadata": {},
   "outputs": [
    {
     "data": {
      "application/vnd.jupyter.widget-view+json": {
       "model_id": "b9a557ab0267431aa59860414fc7f0ba",
       "version_major": 2,
       "version_minor": 0
      },
      "text/plain": [
       "Image(value=b'', format='jpg', height='300', width='800')"
      ]
     },
     "metadata": {},
     "output_type": "display_data"
    }
   ],
   "source": [
    "PP.imshow_with_logic_decision()"
   ]
  },
  {
   "cell_type": "raw",
   "id": "0466d302-a34d-46d9-bb8b-7e7101b19bdd",
   "metadata": {},
   "source": [
    "# 当消息来自本机时，hostname=\"localhost\" 或 127.0.0.1\n",
    "# 当消息来自局域网时，hostname=本机局域网ip\n",
    "receive_images = functools.partial(receive_msg2queue, hostname=\"127.0.0.1\", port=6501)"
   ]
  },
  {
   "cell_type": "raw",
   "id": "7cfeb501-e458-474f-8a70-5403748f4dcc",
   "metadata": {},
   "source": [
    "if __name__ == '__main__':\n",
    "    mp.set_start_method('spawn')\n",
    "    man = Manager()\n",
    "    image_q = man.Queue(maxsize=100)\n",
    "\n",
    "    p_image = Process(target=receive_images, args=(image_q,))\n",
    "    p_image.start()\n",
    "\n",
    "\n",
    "    JS = jimage_show(width=1080)\n",
    "    while True:\n",
    "        image = image_q.get()\n",
    "        JS.show(image)"
   ]
  },
  {
   "cell_type": "code",
   "execution_count": null,
   "id": "10bd0500-fc44-41ad-862d-82988fbc9cef",
   "metadata": {},
   "outputs": [],
   "source": []
  },
  {
   "cell_type": "code",
   "execution_count": null,
   "id": "d3c5326c-0e27-49f4-80d1-dd01497bd481",
   "metadata": {},
   "outputs": [],
   "source": []
  },
  {
   "cell_type": "code",
   "execution_count": null,
   "id": "692cf2b0-9a48-424f-b8db-115af5806ea2",
   "metadata": {},
   "outputs": [],
   "source": []
  }
 ],
 "metadata": {
  "kernelspec": {
   "display_name": "Python 3 (ipykernel)",
   "language": "python",
   "name": "python3"
  },
  "language_info": {
   "codemirror_mode": {
    "name": "ipython",
    "version": 3
   },
   "file_extension": ".py",
   "mimetype": "text/x-python",
   "name": "python",
   "nbconvert_exporter": "python",
   "pygments_lexer": "ipython3",
   "version": "3.8.10"
  }
 },
 "nbformat": 4,
 "nbformat_minor": 5
}
