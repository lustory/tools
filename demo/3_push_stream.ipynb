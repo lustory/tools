{
 "cells": [
  {
   "cell_type": "code",
   "execution_count": 1,
   "id": "d5018d59-c3de-4e4f-820b-9af7ccb58f2d",
   "metadata": {},
   "outputs": [
    {
     "name": "stderr",
     "output_type": "stream",
     "text": [
      "/usr/local/lib/python3.8/dist-packages/paddle/distributed/parallel.py:119: UserWarning: Currently not a parallel execution environment, `paddle.distributed.init_parallel_env` will not do anything.\n",
      "  warnings.warn(\n",
      "/usr/local/lib/python3.8/dist-packages/paddle/tensor/creation.py:125: DeprecationWarning: `np.object` is a deprecated alias for the builtin `object`. To silence this warning, use `object` by itself. Doing this will not modify any behavior and is safe. \n",
      "Deprecated in NumPy 1.20; for more details and guidance: https://numpy.org/devdocs/release/1.20.0-notes.html#deprecations\n",
      "  if data.dtype == np.object:\n"
     ]
    }
   ],
   "source": [
    "import sys\n",
    "sys.path.append(\"/home/xjtu/.research/tools\")\n",
    "\n",
    "import socket\n",
    "# import traceback\n",
    "import cv2\n",
    "from imutils.video import VideoStream\n",
    "import imagezmq\n",
    "import threading\n",
    "import numpy as np\n",
    "from time import sleep\n",
    "import simplejpeg\n",
    "import orjson\n",
    "from comm.ImageZMQ.VideoStreamSubscriber import VideoStreamSubscriber\n",
    "from multiprocessing import Process,Queue\n",
    "\n",
    "from video.filevideostream import FileVideoStream\n",
    "# from configParser import Config as config\n",
    "import multiprocessing as mp\n",
    "from multiprocessing import Process, Manager,Queue\n",
    "import time\n",
    "from comm.ImageZMQ.utils import receive_msg2queue\n",
    "import functools\n",
    "# from track import CentroidTracker, get_object_label\n",
    "from video.image_utils import *\n",
    "\n",
    "import multiprocessing as mp\n",
    "from multiprocessing import Process, Manager,Queue\n",
    "from utils import *\n",
    "from video.post_process import POST_PROCESS"
   ]
  },
  {
   "cell_type": "code",
   "execution_count": 2,
   "id": "25f66c06-8281-48b1-ab94-59428489c0e3",
   "metadata": {},
   "outputs": [],
   "source": [
    "hostname=\"127.0.0.1\"\n",
    "port=6501"
   ]
  },
  {
   "cell_type": "code",
   "execution_count": 3,
   "id": "0ff12363-dfb0-4f3b-a164-be59f8b0ed45",
   "metadata": {},
   "outputs": [
    {
     "name": "stdout",
     "output_type": "stream",
     "text": [
      "[INFO] start receiving msgs in REQ_REP mode ...\n"
     ]
    }
   ],
   "source": [
    "PP = POST_PROCESS()\n",
    "PP.start_receive(hostname, port)"
   ]
  },
  {
   "cell_type": "raw",
   "id": "5eefdffa-dc36-49e0-beee-62fe33cd6eeb",
   "metadata": {},
   "source": [
    "PP.imshow_with_box()"
   ]
  },
  {
   "cell_type": "raw",
   "id": "eb1d8855-cd1b-4ab7-af58-1d654affa0e2",
   "metadata": {},
   "source": [
    "PP.imshow_with_logic_decision()"
   ]
  },
  {
   "cell_type": "code",
   "execution_count": null,
   "id": "a4f0b648-6291-4eca-b14f-166d4d8feff7",
   "metadata": {},
   "outputs": [
    {
     "name": "stderr",
     "output_type": "stream",
     "text": [
      "ffmpeg version 4.2.4-1ubuntu0.1 Copyright (c) 2000-2020 the FFmpeg developers\n",
      "  built with gcc 9 (Ubuntu 9.3.0-10ubuntu2)\n",
      "  configuration: --prefix=/usr --extra-version=1ubuntu0.1 --toolchain=hardened --libdir=/usr/lib/x86_64-linux-gnu --incdir=/usr/include/x86_64-linux-gnu --arch=amd64 --enable-gpl --disable-stripping --enable-avresample --disable-filter=resample --enable-avisynth --enable-gnutls --enable-ladspa --enable-libaom --enable-libass --enable-libbluray --enable-libbs2b --enable-libcaca --enable-libcdio --enable-libcodec2 --enable-libflite --enable-libfontconfig --enable-libfreetype --enable-libfribidi --enable-libgme --enable-libgsm --enable-libjack --enable-libmp3lame --enable-libmysofa --enable-libopenjpeg --enable-libopenmpt --enable-libopus --enable-libpulse --enable-librsvg --enable-librubberband --enable-libshine --enable-libsnappy --enable-libsoxr --enable-libspeex --enable-libssh --enable-libtheora --enable-libtwolame --enable-libvidstab --enable-libvorbis --enable-libvpx --enable-libwavpack --enable-libwebp --enable-libx265 --enable-libxml2 --enable-libxvid --enable-libzmq --enable-libzvbi --enable-lv2 --enable-omx --enable-openal --enable-opencl --enable-opengl --enable-sdl2 --enable-libdc1394 --enable-libdrm --enable-libiec61883 --enable-nvenc --enable-chromaprint --enable-frei0r --enable-libx264 --enable-shared\n",
      "  libavutil      56. 31.100 / 56. 31.100\n",
      "  libavcodec     58. 54.100 / 58. 54.100\n",
      "  libavformat    58. 29.100 / 58. 29.100\n",
      "  libavdevice    58.  8.100 / 58.  8.100\n",
      "  libavfilter     7. 57.100 /  7. 57.100\n",
      "  libavresample   4.  0.  0 /  4.  0.  0\n",
      "  libswscale      5.  5.100 /  5.  5.100\n",
      "  libswresample   3.  5.100 /  3.  5.100\n",
      "  libpostproc    55.  5.100 / 55.  5.100\n",
      "Input #0, rawvideo, from 'pipe:':\n",
      "  Duration: N/A, start: 0.000000, bitrate: 22118 kb/s\n",
      "    Stream #0:0: Video: rawvideo (BGR[24] / 0x18524742), bgr24, 640x360, 22118 kb/s, 4 fps, 4 tbr, 4 tbn, 4 tbc\n",
      "Stream mapping:\n",
      "  Stream #0:0 -> #0:0 (rawvideo (native) -> h264 (libx264))\n",
      "[libx264 @ 0x559056ca2940] using cpu capabilities: MMX2 SSE2Fast SSSE3 SSE4.2 AVX FMA3 BMI2 AVX2\n",
      "[libx264 @ 0x559056ca2940] profile Constrained Baseline, level 2.2\n",
      "[libx264 @ 0x559056ca2940] 264 - core 155 r2917 0a84d98 - H.264/MPEG-4 AVC codec - Copyleft 2003-2018 - http://www.videolan.org/x264.html - options: cabac=0 ref=1 deblock=0:0:0 analyse=0:0 me=dia subme=0 psy=1 psy_rd=1.00:0.00 mixed_ref=0 me_range=16 chroma_me=1 trellis=1 8x8dct=0 cqm=0 deadzone=21,11 fast_pskip=1 chroma_qp_offset=0 threads=11 lookahead_threads=1 sliced_threads=0 nr=0 decimate=1 interlaced=0 bluray_compat=0 constrained_intra=0 bframes=0 weightp=0 keyint=250 keyint_min=4 scenecut=0 intra_refresh=0 rc=crf mbtree=0 crf=23.0 qcomp=0.60 qpmin=0 qpmax=69 qpstep=4 ip_ratio=1.40 aq=0\n",
      "Output #0, flv, to 'rtmp://localhost:1935/stream/test1':\n",
      "  Metadata:\n",
      "    encoder         : Lavf58.29.100\n",
      "    Stream #0:0: Video: h264 (libx264) ([7][0][0][0] / 0x0007), yuv420p, 640x360, q=-1--1, 4 fps, 1k tbn, 4 tbc\n",
      "    Metadata:\n",
      "      encoder         : Lavc58.54.100 libx264\n",
      "    Side data:\n",
      "      cpb: bitrate max/min/avg: 0/0/0 buffer size: 0 vbv_delay: -1\n",
      "frame=217331 fps= 22 q=14.0 size= 5203780kB time=15:05:29.50 bitrate= 784.6kbits/s speed=5.51x    \r"
     ]
    }
   ],
   "source": [
    "PP.push_stream(ip=\"localhost\", port=1935, stream_name=\"test1\", poolsize=5)"
   ]
  },
  {
   "cell_type": "code",
   "execution_count": null,
   "id": "013d9fe9-f1d4-41dc-9f8a-00443bf0f27d",
   "metadata": {},
   "outputs": [],
   "source": []
  },
  {
   "cell_type": "code",
   "execution_count": null,
   "id": "0edf96c8-adcd-4730-baca-5a63f6867601",
   "metadata": {},
   "outputs": [],
   "source": []
  },
  {
   "cell_type": "code",
   "execution_count": null,
   "id": "3973d46c-0013-4ba4-86ca-c88b2a3f8684",
   "metadata": {},
   "outputs": [],
   "source": []
  },
  {
   "cell_type": "code",
   "execution_count": null,
   "id": "45284dd8-5b44-4381-ba96-0e391332932c",
   "metadata": {},
   "outputs": [],
   "source": []
  },
  {
   "cell_type": "code",
   "execution_count": null,
   "id": "db351d44-60c0-4441-98d2-463aede81d95",
   "metadata": {},
   "outputs": [],
   "source": []
  },
  {
   "cell_type": "code",
   "execution_count": null,
   "id": "497e321b-0ce8-4ca1-9086-6b5a121d37d9",
   "metadata": {},
   "outputs": [],
   "source": []
  },
  {
   "cell_type": "raw",
   "id": "0466d302-a34d-46d9-bb8b-7e7101b19bdd",
   "metadata": {},
   "source": [
    "# 当消息来自本机时，hostname=\"localhost\" 或 127.0.0.1\n",
    "# 当消息来自局域网时，hostname=本机局域网ip\n",
    "receive_images = functools.partial(receive_msg2queue, hostname=\"127.0.0.1\", port=6501)"
   ]
  },
  {
   "cell_type": "raw",
   "id": "7cfeb501-e458-474f-8a70-5403748f4dcc",
   "metadata": {},
   "source": [
    "if __name__ == '__main__':\n",
    "    mp.set_start_method('spawn')\n",
    "    man = Manager()\n",
    "    image_q = man.Queue(maxsize=100)\n",
    "\n",
    "    p_image = Process(target=receive_images, args=(image_q,))\n",
    "    p_image.start()\n",
    "\n",
    "\n",
    "    JS = jimage_show(width=1080)\n",
    "    while True:\n",
    "        image = image_q.get()\n",
    "        JS.show(image)"
   ]
  },
  {
   "cell_type": "code",
   "execution_count": null,
   "id": "10bd0500-fc44-41ad-862d-82988fbc9cef",
   "metadata": {},
   "outputs": [],
   "source": []
  },
  {
   "cell_type": "code",
   "execution_count": null,
   "id": "d3c5326c-0e27-49f4-80d1-dd01497bd481",
   "metadata": {},
   "outputs": [],
   "source": []
  },
  {
   "cell_type": "code",
   "execution_count": null,
   "id": "692cf2b0-9a48-424f-b8db-115af5806ea2",
   "metadata": {},
   "outputs": [],
   "source": []
  }
 ],
 "metadata": {
  "kernelspec": {
   "display_name": "Python 3 (ipykernel)",
   "language": "python",
   "name": "python3"
  },
  "language_info": {
   "codemirror_mode": {
    "name": "ipython",
    "version": 3
   },
   "file_extension": ".py",
   "mimetype": "text/x-python",
   "name": "python",
   "nbconvert_exporter": "python",
   "pygments_lexer": "ipython3",
   "version": "3.8.10"
  }
 },
 "nbformat": 4,
 "nbformat_minor": 5
}
