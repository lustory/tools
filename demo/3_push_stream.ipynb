{
 "cells": [
  {
   "cell_type": "code",
   "execution_count": 1,
   "id": "d5018d59-c3de-4e4f-820b-9af7ccb58f2d",
   "metadata": {},
   "outputs": [],
   "source": [
    "import sys\n",
    "sys.path.append(\"/home/xjtu/.research/tools\")\n",
    "\n",
    "import socket\n",
    "import traceback\n",
    "import cv2\n",
    "from imutils.video import VideoStream\n",
    "import imagezmq\n",
    "import threading\n",
    "import numpy as np\n",
    "from time import sleep\n",
    "import simplejpeg\n",
    "import orjson\n",
    "from comm.ImageZMQ.VideoStreamSubscriber import VideoStreamSubscriber\n",
    "from multiprocessing import Process,Queue\n",
    "\n",
    "from video.filevideostream import FileVideoStream\n",
    "# from configParser import Config as config\n",
    "import multiprocessing as mp\n",
    "from multiprocessing import Process, Manager,Queue\n",
    "import time\n",
    "from comm.ImageZMQ.utils import receive_msg2queue\n",
    "import functools\n",
    "from track import CentroidTracker, get_object_label\n",
    "from video.image_utils import *\n",
    "\n",
    "import multiprocessing as mp\n",
    "from multiprocessing import Process, Manager,Queue\n",
    "from utils import *"
   ]
  },
  {
   "cell_type": "code",
   "execution_count": 2,
   "id": "1fccb641-dda4-4fab-a855-120a73be6ecf",
   "metadata": {},
   "outputs": [],
   "source": [
    "# 当消息来自本机时，hostname=\"localhost\" 或 127.0.0.1\n",
    "# 当消息来自局域网时，hostname=本机局域网ip\n",
    "receive_images = functools.partial(receive_msg2queue, hostname=\"127.0.0.1\", port=6501)"
   ]
  },
  {
   "cell_type": "code",
   "execution_count": null,
   "id": "f6cda28c-c91b-421a-b7b1-7ccfd94c6ed8",
   "metadata": {},
   "outputs": [
    {
     "data": {
      "application/vnd.jupyter.widget-view+json": {
       "model_id": "ab4926c6ad1d480a86fdc26c9f341ec3",
       "version_major": 2,
       "version_minor": 0
      },
      "text/plain": [
       "Image(value=b'', format='jpg', height='300', width='720')"
      ]
     },
     "metadata": {},
     "output_type": "display_data"
    },
    {
     "name": "stdout",
     "output_type": "stream",
     "text": [
      "[INFO] start receiving msgs in REQ_REP mode ...\n"
     ]
    },
    {
     "name": "stderr",
     "output_type": "stream",
     "text": [
      "Process Process-2:\n",
      "Traceback (most recent call last):\n",
      "  File \"/usr/lib/python3.8/multiprocessing/process.py\", line 315, in _bootstrap\n",
      "    self.run()\n",
      "  File \"/usr/lib/python3.8/multiprocessing/process.py\", line 108, in run\n",
      "    self._target(*self._args, **self._kwargs)\n",
      "  File \"/home/xjtu/.research/tools/comm/ImageZMQ/utils.py\", line 17, in receive_msg2queue\n",
      "    _, image = receiver.receive(timeout=timeout)\n",
      "  File \"/home/xjtu/.research/tools/comm/ImageZMQ/VideoStreamSubscriber.py\", line 41, in receive\n",
      "    raise TimeoutError(\n",
      "TimeoutError: Timeout while reading from subscriber tcp://127.0.0.1:6501\n"
     ]
    }
   ],
   "source": [
    "if __name__ == '__main__':\n",
    "    mp.set_start_method('spawn')\n",
    "    man = Manager()\n",
    "    image_q = man.Queue(maxsize=100)\n",
    "\n",
    "    p_image = Process(target=receive_images, args=(image_q,))\n",
    "    p_image.start()\n",
    "\n",
    "\n",
    "    JS = jimage_show(width=720)\n",
    "    while True:\n",
    "        image = image_q.get()\n",
    "        JS.show(image)"
   ]
  },
  {
   "cell_type": "code",
   "execution_count": null,
   "id": "10bd0500-fc44-41ad-862d-82988fbc9cef",
   "metadata": {},
   "outputs": [],
   "source": []
  },
  {
   "cell_type": "code",
   "execution_count": null,
   "id": "d3c5326c-0e27-49f4-80d1-dd01497bd481",
   "metadata": {},
   "outputs": [],
   "source": []
  },
  {
   "cell_type": "code",
   "execution_count": null,
   "id": "692cf2b0-9a48-424f-b8db-115af5806ea2",
   "metadata": {},
   "outputs": [],
   "source": []
  }
 ],
 "metadata": {
  "kernelspec": {
   "display_name": "Python 3 (ipykernel)",
   "language": "python",
   "name": "python3"
  },
  "language_info": {
   "codemirror_mode": {
    "name": "ipython",
    "version": 3
   },
   "file_extension": ".py",
   "mimetype": "text/x-python",
   "name": "python",
   "nbconvert_exporter": "python",
   "pygments_lexer": "ipython3",
   "version": "3.8.10"
  }
 },
 "nbformat": 4,
 "nbformat_minor": 5
}
