{
 "cells": [
  {
   "cell_type": "code",
   "execution_count": 1,
   "id": "fd40c62c-4338-49a5-8a20-400025c70381",
   "metadata": {},
   "outputs": [],
   "source": [
    "import sys\n",
    "sys.path.append(\"/home/xjtu/.research/tools/\")\n",
    "\n",
    "import cv2\n",
    "import ffmpeg\n",
    "from video.image_utils import *\n",
    "from video.webCameraVideoStream import webCamVideoStream"
   ]
  },
  {
   "cell_type": "code",
   "execution_count": null,
   "id": "69fc4df6-a187-4576-b913-6b860eb4aaea",
   "metadata": {},
   "outputs": [
    {
     "data": {
      "application/vnd.jupyter.widget-view+json": {
       "model_id": "c1ad1a65af2f4c70a7caf26942ed4020",
       "version_major": 2,
       "version_minor": 0
      },
      "text/plain": [
       "Image(value=b'', format='jpg', height='300', width='720')"
      ]
     },
     "metadata": {},
     "output_type": "display_data"
    }
   ],
   "source": [
    "push_url = \"rtmp://localhost:1935/stream/test1\"\n",
    "\n",
    "input_stream = \"rtsp://wowzaec2demo.streamlock.net/vod/mp4:BigBuckBunny_115k.mov\"\n",
    "\n",
    "webcam = webCamVideoStream(video_addr=input_stream, skip_num=0, retry=10, maxqsize=0, im_w=720)\n",
    "\n",
    "jcam_show(webcam, width=720)"
   ]
  },
  {
   "cell_type": "code",
   "execution_count": null,
   "id": "1d1658b4-48ab-4019-9ba6-f5c261a9d074",
   "metadata": {},
   "outputs": [],
   "source": []
  }
 ],
 "metadata": {
  "kernelspec": {
   "display_name": "Python 3 (ipykernel)",
   "language": "python",
   "name": "python3"
  },
  "language_info": {
   "codemirror_mode": {
    "name": "ipython",
    "version": 3
   },
   "file_extension": ".py",
   "mimetype": "text/x-python",
   "name": "python",
   "nbconvert_exporter": "python",
   "pygments_lexer": "ipython3",
   "version": "3.8.10"
  }
 },
 "nbformat": 4,
 "nbformat_minor": 5
}
