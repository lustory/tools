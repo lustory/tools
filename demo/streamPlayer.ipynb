{
 "cells": [
  {
   "cell_type": "code",
   "execution_count": 1,
   "id": "fd40c62c-4338-49a5-8a20-400025c70381",
   "metadata": {},
   "outputs": [],
   "source": [
    "import sys\n",
    "sys.path.append(\"/home/xjtu/.research/tools/\")\n",
    "\n",
    "import cv2\n",
    "import ffmpeg\n",
    "from video.image_utils import *\n",
    "from video.webCameraVideoStream import webCamVideoStream"
   ]
  },
  {
   "cell_type": "code",
   "execution_count": null,
   "id": "69fc4df6-a187-4576-b913-6b860eb4aaea",
   "metadata": {},
   "outputs": [
    {
     "data": {
      "application/vnd.jupyter.widget-view+json": {
       "model_id": "20a31821bfe44144b484f1b8668434ba",
       "version_major": 2,
       "version_minor": 0
      },
      "text/plain": [
       "Image(value=b'', format='jpg', height='300', width='720')"
      ]
     },
     "metadata": {},
     "output_type": "display_data"
    }
   ],
   "source": [
    "input_stream = \"rtmp://localhost:1935/stream/test1\"\n",
    "\n",
    "# input_stream = \"rtsp://wowzaec2demo.streamlock.net/vod/mp4:BigBuckBunny_115k.mov\"\n",
    "\n",
    "#原1号设备\n",
    "# input_stream = \"rtsp://180.213.214.75:554/rtp/gb_play_34020000001320000003_34020000001320000003\" \n",
    "\n",
    "# 中央变电所1\n",
    "# input_stream = \"rtsp://180.213.214.75:554/rtp/gb_play_34020000001320000060_34020000001320000060\" \n",
    "\n",
    "webcam = webCamVideoStream(video_addr=input_stream, skip_num=8, retry=3, maxqsize=20, im_w=640)\n",
    "\n",
    "jcam_show(webcam, width=720)"
   ]
  },
  {
   "cell_type": "code",
   "execution_count": null,
   "id": "1d1658b4-48ab-4019-9ba6-f5c261a9d074",
   "metadata": {},
   "outputs": [],
   "source": []
  },
  {
   "cell_type": "code",
   "execution_count": null,
   "id": "c9098af7-91cc-44e1-8aaa-340e4d563a1b",
   "metadata": {},
   "outputs": [],
   "source": []
  }
 ],
 "metadata": {
  "kernelspec": {
   "display_name": "Python 3 (ipykernel)",
   "language": "python",
   "name": "python3"
  },
  "language_info": {
   "codemirror_mode": {
    "name": "ipython",
    "version": 3
   },
   "file_extension": ".py",
   "mimetype": "text/x-python",
   "name": "python",
   "nbconvert_exporter": "python",
   "pygments_lexer": "ipython3",
   "version": "3.8.10"
  }
 },
 "nbformat": 4,
 "nbformat_minor": 5
}
