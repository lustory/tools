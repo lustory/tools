{
 "cells": [
  {
   "cell_type": "code",
   "execution_count": 11,
   "id": "af18f206-ce16-45fe-a01f-227c3e14ac96",
   "metadata": {},
   "outputs": [],
   "source": [
    "from utils.video.filevideostream import FileVideoStream as FVS\n",
    "from utils.utils import Jimage_show\n",
    "import time\n",
    "\n",
    "\n",
    "import os\n",
    "import PIL\n",
    "from PIL import Image\n",
    "from io import BytesIO\n",
    "import simplejpeg\n",
    "from IPython import display\n",
    "import ipywidgets as widgets\n",
    "import cv2\n"
   ]
  },
  {
   "cell_type": "code",
   "execution_count": 12,
   "id": "89d97ac3-01a9-4a5a-8081-bce5aacb9c9b",
   "metadata": {},
   "outputs": [],
   "source": [
    "video_path = \"./data/face_recognition_video_1.mp4\""
   ]
  },
  {
   "cell_type": "code",
   "execution_count": 13,
   "id": "55e49659-c585-4b2a-93b8-d81b0c009be3",
   "metadata": {},
   "outputs": [],
   "source": [
    "fvs = FVS(video_path)"
   ]
  },
  {
   "cell_type": "code",
   "execution_count": 14,
   "id": "2f30bd3d-730d-47aa-a833-9cb8cf706b26",
   "metadata": {},
   "outputs": [
    {
     "data": {
      "application/vnd.jupyter.widget-view+json": {
       "model_id": "74de6154f41f4ea3851e83faddbf3a36",
       "version_major": 2,
       "version_minor": 0
      },
      "text/plain": [
       "Image(value=b'', format='jpg', height='300', width='800')"
      ]
     },
     "metadata": {},
     "output_type": "display_data"
    },
    {
     "ename": "StopIteration",
     "evalue": "",
     "output_type": "error",
     "traceback": [
      "\u001b[1;31m---------------------------------------------------------------------------\u001b[0m",
      "\u001b[1;31mStopIteration\u001b[0m                             Traceback (most recent call last)",
      "\u001b[1;32m<ipython-input-14-e22dbd5e1357>\u001b[0m in \u001b[0;36m<module>\u001b[1;34m\u001b[0m\n\u001b[0;32m      1\u001b[0m \u001b[0mj_show\u001b[0m \u001b[1;33m=\u001b[0m \u001b[0mJimage_show\u001b[0m\u001b[1;33m(\u001b[0m\u001b[0mwidth\u001b[0m \u001b[1;33m=\u001b[0m \u001b[1;36m800\u001b[0m\u001b[1;33m)\u001b[0m\u001b[1;33m\u001b[0m\u001b[1;33m\u001b[0m\u001b[0m\n\u001b[0;32m      2\u001b[0m \u001b[1;32mwhile\u001b[0m \u001b[1;32mTrue\u001b[0m\u001b[1;33m:\u001b[0m\u001b[1;33m\u001b[0m\u001b[1;33m\u001b[0m\u001b[0m\n\u001b[1;32m----> 3\u001b[1;33m     \u001b[0mframe\u001b[0m \u001b[1;33m=\u001b[0m \u001b[0mnext\u001b[0m\u001b[1;33m(\u001b[0m\u001b[0mfvs\u001b[0m\u001b[1;33m.\u001b[0m\u001b[0mread\u001b[0m\u001b[1;33m(\u001b[0m\u001b[1;33m)\u001b[0m\u001b[1;33m)\u001b[0m\u001b[1;33m\u001b[0m\u001b[1;33m\u001b[0m\u001b[0m\n\u001b[0m\u001b[0;32m      4\u001b[0m     \u001b[0mj_show\u001b[0m\u001b[1;33m.\u001b[0m\u001b[0mshow\u001b[0m\u001b[1;33m(\u001b[0m\u001b[0mframe\u001b[0m\u001b[1;33m)\u001b[0m\u001b[1;33m\u001b[0m\u001b[1;33m\u001b[0m\u001b[0m\n",
      "\u001b[1;31mStopIteration\u001b[0m: "
     ]
    }
   ],
   "source": [
    "j_show = Jimage_show(width = 800)\n",
    "while True:\n",
    "    frame = next(fvs.read())\n",
    "    j_show.show(frame)"
   ]
  },
  {
   "cell_type": "code",
   "execution_count": null,
   "id": "03b0016a-4099-47b1-a39f-dbdc9c180ffa",
   "metadata": {},
   "outputs": [],
   "source": []
  },
  {
   "cell_type": "code",
   "execution_count": null,
   "id": "2afd9a06-b1f8-414d-b7e5-69ee13d63177",
   "metadata": {},
   "outputs": [],
   "source": []
  }
 ],
 "metadata": {
  "kernelspec": {
   "display_name": "Python 3 (ipykernel)",
   "language": "python",
   "name": "python3"
  },
  "language_info": {
   "codemirror_mode": {
    "name": "ipython",
    "version": 3
   },
   "file_extension": ".py",
   "mimetype": "text/x-python",
   "name": "python",
   "nbconvert_exporter": "python",
   "pygments_lexer": "ipython3",
   "version": "3.8.10"
  }
 },
 "nbformat": 4,
 "nbformat_minor": 5
}
