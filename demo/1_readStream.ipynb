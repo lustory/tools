{
 "cells": [
  {
   "cell_type": "code",
   "execution_count": 1,
   "id": "cf2b9b86-860d-4177-8ad0-cfebe09b8f3b",
   "metadata": {},
   "outputs": [],
   "source": [
    "import sys\n",
    "sys.path.append(\"/home/xjtu/.research/tools\")\n",
    "\n",
    "import os\n",
    "import socket\n",
    "import traceback\n",
    "from time import sleep\n",
    "import cv2\n",
    "from imutils.video import VideoStream\n",
    "import imagezmq\n",
    "import simplejpeg\n",
    "from itertools import count\n",
    "from video.filevideostream import FileVideoStream\n",
    "from comm.ImageZMQ.utils import send_msg\n",
    "import imutils\n",
    "import time\n",
    "from video.webCameraVideoStream import webCamVideoStream\n",
    "\n",
    "from IPython.display import clear_output "
   ]
  },
  {
   "cell_type": "code",
   "execution_count": 2,
   "id": "a80ee3dc-b6fa-43e2-937f-ac52ab086261",
   "metadata": {},
   "outputs": [
    {
     "name": "stdout",
     "output_type": "stream",
     "text": [
      "[INFO] starting sending msgs using req_rep mode\n"
     ]
    }
   ],
   "source": [
    "## 消息发送初始化\n",
    "port = 6500\n",
    "REQ_REP_mode = True\n",
    "remote_addr = \"127.0.0.1\" \n",
    "input_stream = \"/home/xjtu/.research/test.mp4\"\n",
    "sender = imagezmq.ImageSender(f\"tcp://{remote_addr}:{port}\")\n",
    "print(f\"[INFO] starting sending msgs using {'req_rep' if REQ_REP_mode else 'pub_sub'} mode\")"
   ]
  },
  {
   "cell_type": "code",
   "execution_count": 3,
   "id": "c41e07a5-36b4-44b9-98bb-bb1ffbd438f7",
   "metadata": {},
   "outputs": [
    {
     "data": {
      "text/plain": [
       "<video.webCameraVideoStream.webCamVideoStream at 0x7fea247d3a00>"
      ]
     },
     "execution_count": 3,
     "metadata": {},
     "output_type": "execute_result"
    }
   ],
   "source": [
    "webcam = webCamVideoStream(video_addr=input_stream, skip_num=0, retry=10, maxqsize=0, im_w=720)\n",
    "webcam.start()"
   ]
  },
  {
   "cell_type": "code",
   "execution_count": null,
   "id": "53d66934-6bc5-476f-9136-e2e9a7eab026",
   "metadata": {},
   "outputs": [],
   "source": [
    "count = 0\n",
    "while True:\n",
    "    image = webcam.read()\n",
    "    send_msg(sender, image, msg=\"\", image_quality=70, image_type=\"buffer\", is_req_rep=REQ_REP_mode)\n",
    "    time.sleep(0.05)\n",
    "    clear_output()\n",
    "    count += 1\n",
    "    print(f\"{socket.gethostname()} sent frames: {count:,}\")"
   ]
  },
  {
   "cell_type": "code",
   "execution_count": null,
   "id": "804cc896-f831-44dc-8a76-517b9c2b7cb7",
   "metadata": {},
   "outputs": [],
   "source": []
  },
  {
   "cell_type": "code",
   "execution_count": null,
   "id": "58266254-94f2-4123-9a62-cd2499d3d1bd",
   "metadata": {},
   "outputs": [],
   "source": []
  },
  {
   "cell_type": "code",
   "execution_count": null,
   "id": "0e951bdb-8d98-4cda-969a-9afacb9885a8",
   "metadata": {},
   "outputs": [],
   "source": []
  },
  {
   "cell_type": "code",
   "execution_count": null,
   "id": "a7b91a7b-2e2b-4227-8c85-4ddcf7ac6bb2",
   "metadata": {},
   "outputs": [],
   "source": []
  },
  {
   "cell_type": "code",
   "execution_count": null,
   "id": "8f34052a-8d5b-4b1b-9af8-2d929e41d88f",
   "metadata": {},
   "outputs": [],
   "source": [
    "from datetime import datetime\n",
    "e = datetme.now()\n",
    "f'the time is {e:%F %X}'"
   ]
  },
  {
   "cell_type": "code",
   "execution_count": null,
   "id": "834e7faf-4f6a-41cf-9e89-b25797245d87",
   "metadata": {},
   "outputs": [],
   "source": [
    "print(\"fdadfa\")\n",
    "os.system(\"clear\")"
   ]
  },
  {
   "cell_type": "code",
   "execution_count": null,
   "id": "1b88a497-e2fe-413a-9ee5-f0c0b4507d08",
   "metadata": {},
   "outputs": [],
   "source": []
  }
 ],
 "metadata": {
  "kernelspec": {
   "display_name": "Python 3 (ipykernel)",
   "language": "python",
   "name": "python3"
  },
  "language_info": {
   "codemirror_mode": {
    "name": "ipython",
    "version": 3
   },
   "file_extension": ".py",
   "mimetype": "text/x-python",
   "name": "python",
   "nbconvert_exporter": "python",
   "pygments_lexer": "ipython3",
   "version": "3.8.10"
  }
 },
 "nbformat": 4,
 "nbformat_minor": 5
}
